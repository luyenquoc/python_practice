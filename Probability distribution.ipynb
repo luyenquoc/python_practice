{
 "cells": [
  {
   "cell_type": "code",
   "execution_count": 2,
   "metadata": {},
   "outputs": [],
   "source": [
    "import numpy as np\n",
    "import matplotlib.pyplot as plt\n"
   ]
  },
  {
   "cell_type": "code",
   "execution_count": 3,
   "metadata": {},
   "outputs": [],
   "source": [
    "n = 365\n",
    "a = 10\n",
    "b = 40"
   ]
  },
  {
   "cell_type": "code",
   "execution_count": 4,
   "metadata": {},
   "outputs": [
    {
     "data": {
      "text/plain": [
       "array([21, 30, 22, 28, 35, 15, 40, 33, 26, 18, 28, 17, 11, 18, 17, 35, 12,\n",
       "       10, 29, 18, 29, 13, 38, 26, 20, 29, 12, 31, 18, 32, 28, 27, 20, 22,\n",
       "       19, 28, 29, 23, 27, 16, 40, 38, 37, 40, 12, 22, 31, 18, 14, 18, 30,\n",
       "       34, 13, 29, 24, 16, 40, 33, 25, 18, 32, 16, 32, 23, 17, 39, 29, 28,\n",
       "       26, 27, 14, 20, 15, 24, 40, 29, 27, 18, 14, 11, 36, 14, 34, 11, 20,\n",
       "       39, 12, 30, 20, 24, 26, 21, 37, 29, 33, 14, 40, 38, 39, 23, 40, 16,\n",
       "       13, 26, 34, 34, 40, 10, 24, 34, 24, 12, 40, 29, 38, 21, 20, 36, 28,\n",
       "       40, 11, 36, 10, 15, 31, 33, 17, 33, 19, 22, 32, 15, 22, 19, 20, 35,\n",
       "       16, 23, 34, 39, 17, 19, 19, 22, 13, 15, 36, 33, 23, 18, 12, 25, 38,\n",
       "       14, 20, 17, 17, 33, 28, 32, 37, 33, 14, 32, 10, 25, 36, 21, 30, 21,\n",
       "       17, 38, 23, 22, 28, 29, 36, 33, 33, 27, 18, 26, 29, 15, 25, 39, 38,\n",
       "       30, 39, 28, 39, 13, 33, 15, 31, 34, 11, 36, 16, 18, 37, 16, 24, 18,\n",
       "       10, 28, 36, 18, 32, 31, 36, 30, 19, 18, 16, 33, 26, 17, 10, 11, 11,\n",
       "       14, 13, 27, 14, 33, 23, 32, 20, 17, 15, 20, 21, 22, 13, 38, 15, 11,\n",
       "       10, 28, 21, 12, 10, 19, 20, 15, 16, 29, 17, 31, 37, 33, 30, 28, 11,\n",
       "       34, 13, 18, 16, 32, 17, 34, 20, 35, 17, 11, 13, 22, 23, 15, 13, 29,\n",
       "       12, 36, 15, 37, 16, 14, 12, 18, 24, 17, 28, 20, 32, 39, 17, 31, 39,\n",
       "       39, 18, 19, 27, 39, 35, 28, 25, 30, 21, 31, 16, 10, 38, 11, 29, 16,\n",
       "       15, 12, 16, 18, 33, 31, 19, 27, 33, 28, 40, 19, 30, 35, 20, 18, 15,\n",
       "       37, 39, 40, 15, 40, 15, 34, 13, 33, 38, 40, 38, 40, 13, 18, 31, 24,\n",
       "       11, 28, 24, 13, 10, 15, 19, 10, 38, 34, 21, 16, 13, 16, 26, 27, 22,\n",
       "       14, 13, 32, 29, 20, 24, 14, 15])"
      ]
     },
     "execution_count": 4,
     "metadata": {},
     "output_type": "execute_result"
    }
   ],
   "source": [
    "data_uniform = np.random.uniform(a,b+1,n)\n",
    "data_uniform.astype(int)"
   ]
  },
  {
   "cell_type": "code",
   "execution_count": 5,
   "metadata": {},
   "outputs": [
    {
     "data": {
      "image/png": "[encoded data removed]",
      "text/plain": [
       "<Figure size 640x480 with 1 Axes>"
      ]
     },
     "metadata": {},
     "output_type": "display_data"
    }
   ],
   "source": [
    "plt.hist(data_uniform)\n",
    "plt.title('Uniform distribution')\n",
    "plt.show()"
   ]
  },
  {
   "cell_type": "code",
   "execution_count": 6,
   "metadata": {},
   "outputs": [],
   "source": [
    "p = (30-15)*(1/(b-a))"
   ]
  },
  {
   "cell_type": "code",
   "execution_count": 7,
   "metadata": {},
   "outputs": [
    {
     "data": {
      "text/plain": [
       "0.5"
      ]
     },
     "execution_count": 7,
     "metadata": {},
     "output_type": "execute_result"
    }
   ],
   "source": [
    "p"
   ]
  },
  {
   "cell_type": "code",
   "execution_count": null,
   "metadata": {},
   "outputs": [],
   "source": []
  }
 ],
 "metadata": {
  "kernelspec": {
   "display_name": "Python 3",
   "language": "python",
   "name": "python3"
  },
  "language_info": {
   "codemirror_mode": {
    "name": "ipython",
    "version": 3
   },
   "file_extension": ".py",
   "mimetype": "text/x-python",
   "name": "python",
   "nbconvert_exporter": "python",
   "pygments_lexer": "ipython3",
   "version": "3.9.6"
  },
  "orig_nbformat": 4,
  "vscode": {
   "interpreter": {
    "hash": "31f2aee4e71d21fbe5cf8b01ff0e069b9275f58929596ceb00d14d90e3e16cd6"
   }
  }
 },
 "nbformat": 4,
 "nbformat_minor": 2
}
